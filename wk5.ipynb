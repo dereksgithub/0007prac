{
 "cells": [
  {
   "cell_type": "markdown",
   "metadata": {},
   "source": []
  },
  {
   "cell_type": "code",
   "execution_count": 2,
   "metadata": {
    "notebookRunGroups": {
     "groupValue": ""
    }
   },
   "outputs": [],
   "source": [
    "# import relevant packages\n",
    "\n",
    "import numpy as np\n",
    "import scipy.stats as sps\n",
    "import pandas as pd\n",
    "import matplotlib.pyplot as plt\n",
    "\n",
    "%matplotlib inline\n"
   ]
  },
  {
   "cell_type": "code",
   "execution_count": 3,
   "metadata": {},
   "outputs": [
    {
     "data": {
      "text/html": [
       "<div>\n",
       "<style scoped>\n",
       "    .dataframe tbody tr th:only-of-type {\n",
       "        vertical-align: middle;\n",
       "    }\n",
       "\n",
       "    .dataframe tbody tr th {\n",
       "        vertical-align: top;\n",
       "    }\n",
       "\n",
       "    .dataframe thead th {\n",
       "        text-align: right;\n",
       "    }\n",
       "</style>\n",
       "<table border=\"1\" class=\"dataframe\">\n",
       "  <thead>\n",
       "    <tr style=\"text-align: right;\">\n",
       "      <th></th>\n",
       "      <th>sample_1</th>\n",
       "      <th>sample_2</th>\n",
       "    </tr>\n",
       "  </thead>\n",
       "  <tbody>\n",
       "    <tr>\n",
       "      <th>0</th>\n",
       "      <td>13.4</td>\n",
       "      <td>14.2</td>\n",
       "    </tr>\n",
       "    <tr>\n",
       "      <th>1</th>\n",
       "      <td>13.9</td>\n",
       "      <td>13.1</td>\n",
       "    </tr>\n",
       "    <tr>\n",
       "      <th>2</th>\n",
       "      <td>13.9</td>\n",
       "      <td>15.3</td>\n",
       "    </tr>\n",
       "    <tr>\n",
       "      <th>3</th>\n",
       "      <td>14.7</td>\n",
       "      <td>13.6</td>\n",
       "    </tr>\n",
       "    <tr>\n",
       "      <th>4</th>\n",
       "      <td>14.8</td>\n",
       "      <td>14.4</td>\n",
       "    </tr>\n",
       "  </tbody>\n",
       "</table>\n",
       "</div>"
      ],
      "text/plain": [
       "   sample_1  sample_2\n",
       "0      13.4      14.2\n",
       "1      13.9      13.1\n",
       "2      13.9      15.3\n",
       "3      14.7      13.6\n",
       "4      14.8      14.4"
      ]
     },
     "execution_count": 3,
     "metadata": {},
     "output_type": "execute_result"
    }
   ],
   "source": [
    "# Get the data on the weights of 4-year-olds:\n",
    "data = pd.read_csv('https://github.com/huanfachen/QM_2021/raw/main/data/toddler_data.csv')[['sample_1','sample_2']]\n",
    "\n",
    "# Look at the first few rows:\n",
    "data.head()"
   ]
  },
  {
   "cell_type": "code",
   "execution_count": 4,
   "metadata": {},
   "outputs": [
    {
     "data": {
      "text/html": [
       "<div>\n",
       "<style scoped>\n",
       "    .dataframe tbody tr th:only-of-type {\n",
       "        vertical-align: middle;\n",
       "    }\n",
       "\n",
       "    .dataframe tbody tr th {\n",
       "        vertical-align: top;\n",
       "    }\n",
       "\n",
       "    .dataframe thead th {\n",
       "        text-align: right;\n",
       "    }\n",
       "</style>\n",
       "<table border=\"1\" class=\"dataframe\">\n",
       "  <thead>\n",
       "    <tr style=\"text-align: right;\">\n",
       "      <th></th>\n",
       "      <th>sample_1</th>\n",
       "      <th>sample_2</th>\n",
       "    </tr>\n",
       "  </thead>\n",
       "  <tbody>\n",
       "    <tr>\n",
       "      <th>count</th>\n",
       "      <td>100.000000</td>\n",
       "      <td>100.000000</td>\n",
       "    </tr>\n",
       "    <tr>\n",
       "      <th>mean</th>\n",
       "      <td>13.952000</td>\n",
       "      <td>14.304000</td>\n",
       "    </tr>\n",
       "    <tr>\n",
       "      <th>std</th>\n",
       "      <td>1.214931</td>\n",
       "      <td>1.249882</td>\n",
       "    </tr>\n",
       "    <tr>\n",
       "      <th>min</th>\n",
       "      <td>11.300000</td>\n",
       "      <td>10.700000</td>\n",
       "    </tr>\n",
       "    <tr>\n",
       "      <th>25%</th>\n",
       "      <td>13.175000</td>\n",
       "      <td>13.550000</td>\n",
       "    </tr>\n",
       "    <tr>\n",
       "      <th>50%</th>\n",
       "      <td>14.000000</td>\n",
       "      <td>14.200000</td>\n",
       "    </tr>\n",
       "    <tr>\n",
       "      <th>75%</th>\n",
       "      <td>14.800000</td>\n",
       "      <td>15.000000</td>\n",
       "    </tr>\n",
       "    <tr>\n",
       "      <th>max</th>\n",
       "      <td>16.900000</td>\n",
       "      <td>18.000000</td>\n",
       "    </tr>\n",
       "  </tbody>\n",
       "</table>\n",
       "</div>"
      ],
      "text/plain": [
       "         sample_1    sample_2\n",
       "count  100.000000  100.000000\n",
       "mean    13.952000   14.304000\n",
       "std      1.214931    1.249882\n",
       "min     11.300000   10.700000\n",
       "25%     13.175000   13.550000\n",
       "50%     14.000000   14.200000\n",
       "75%     14.800000   15.000000\n",
       "max     16.900000   18.000000"
      ]
     },
     "execution_count": 4,
     "metadata": {},
     "output_type": "execute_result"
    }
   ],
   "source": [
    "# For convenience...\n",
    "\n",
    "# Store each sample separately:\n",
    "data1 = data['sample_1']\n",
    "data2 = data['sample_2']\n",
    "\n",
    "# Store some useful values\n",
    "\n",
    "min1 = data1.min()\n",
    "min2 = data2.min()\n",
    "\n",
    "max1 = data1.max()\n",
    "max2 = data2.max()\n",
    "\n",
    "mean1 = data1.mean()\n",
    "mean2 = data2.mean()\n",
    "\n",
    "std1 = data1.std()\n",
    "std2 = data2.std()\n",
    "\n",
    "n1 = len(data1)\n",
    "n2 = len(data2)\n",
    "\n",
    "# And print some summary information:\n",
    "\n",
    "data.describe()\n",
    "\n"
   ]
  },
  {
   "cell_type": "code",
   "execution_count": 5,
   "metadata": {},
   "outputs": [
    {
     "data": {
      "text/plain": [
       "<Axes: >"
      ]
     },
     "execution_count": 5,
     "metadata": {},
     "output_type": "execute_result"
    },
    {
     "data": {
      "image/png": "[encoded data removed]",
      "text/plain": [
       "<Figure size 640x480 with 1 Axes>"
      ]
     },
     "metadata": {},
     "output_type": "display_data"
    },
    {
     "data": {
      "image/png": "[encoded data removed]",
      "text/plain": [
       "<Figure size 640x480 with 1 Axes>"
      ]
     },
     "metadata": {},
     "output_type": "display_data"
    }
   ],
   "source": [
    "# Visualise the distribution of the data (as histograms)\n",
    "\n",
    "# Set common x-limits for the histograms:\n",
    "# (using int() is a trick to round to the integer below)\n",
    "hist_min = int(min(min1,min2)) - 1\n",
    "hist_max = int(max(max1,max2)) + 2\n",
    "x_range = [hist_min, hist_max]\n",
    "\n",
    "# Set common y-limits for the histograms:\n",
    "y_range = [0.0,0.4]\n",
    "\n",
    "# Choose an appropriate number of columns for the histogram:\n",
    "# (This choice will give us columns of width 1)\n",
    "n_cols = hist_max - hist_min\n",
    "\n",
    "# Now create the plots:\n",
    "# (The plt.figure(x) functions create new plots preventing...\n",
    "# ... both histograms from being drawn on the same axes.)\n",
    "\n",
    "plt.figure(1)\n",
    "data['sample_1'].hist(range=x_range, bins=n_cols, density=True)\n",
    "plt.ylim(y_range)\n",
    "\n",
    "plt.figure(2)\n",
    "plt.ylim(y_range)\n",
    "data['sample_2'].hist(range=x_range, bins=n_cols, density=True)"
   ]
  },
  {
   "cell_type": "markdown",
   "metadata": {},
   "source": [
    "\n",
    "Test 1 - Mean Comparison Test\n",
    "\n",
    "The two samples have different means, but let's test whether this could be down to random chance.\n",
    "\n",
    "Could they be drawn from populations with the same mean?\n",
    "\n",
    "(The sample sizes (100) are fairly large so the mean comparison test is valid.)\n",
    "\n",
    "Step 1\n",
    "\n",
    "\n",
    "\n",
    "\n",
    "__H0: Mean of population 1 =  Mean of population 1__\n",
    "\n",
    "\n",
    "__H1: Mean of population 1 <> Mean of population 1__\n",
    "\n",
    "\n",
    "\n",
    "__Set significance level__\n",
    "\n",
    "α = 0.05\n",
    "\n",
    "\n"
   ]
  },
  {
   "cell_type": "code",
   "execution_count": 6,
   "metadata": {},
   "outputs": [
    {
     "name": "stdout",
     "output_type": "stream",
     "text": [
      "std_ratio = 0.9720359813764006\n",
      "Can assume equal population standard deviations.\n"
     ]
    }
   ],
   "source": [
    "alpha = 0.05\n",
    "# There is a built-in scipy.stats function (ttest_ind) that does steps 3 and 4 for us.\n",
    "# We just need to know whether we can assume that the samples are drawn...\n",
    "# ... from populations with the same standard deviation or not.\n",
    "# (Provided neither standard deviation is double the other, this should be ok)\n",
    "\n",
    "std_ratio = std1/std2\n",
    "\n",
    "print(\"std_ratio =\", std_ratio)\n",
    "\n",
    "if std_ratio > 0.5 and std_ratio < 2:\n",
    "    print(\"Can assume equal population standard deviations.\")\n",
    "    equal_stds = True\n",
    "else:\n",
    "    print(\"Cannot assume equal population standard deviations.\")\n",
    "    equal_stds = False\n",
    "\n"
   ]
  },
  {
   "cell_type": "code",
   "execution_count": 7,
   "metadata": {},
   "outputs": [
    {
     "name": "stdout",
     "output_type": "stream",
     "text": [
      "p-value = 0.04479005662769824\n"
     ]
    }
   ],
   "source": [
    "# Calculate the test statistic and the p-value:\n",
    "# There are two outputs from the function of sps.ttest_ind: the **test statistic** and the **p value**\n",
    "\n",
    "test_stat, p_value = sps.ttest_ind(data1, data2, equal_var = equal_stds)\n",
    "print(\"p-value =\", p_value)"
   ]
  },
  {
   "cell_type": "code",
   "execution_count": 8,
   "metadata": {},
   "outputs": [
    {
     "name": "stdout",
     "output_type": "stream",
     "text": [
      "p-value < significance threshold.\n",
      "Reject H0. Accept H1.\n",
      "Conclude that samples are drawn from populations with different means.\n"
     ]
    }
   ],
   "source": [
    "# Reach a conclusion:\n",
    "\n",
    "if p_value < alpha:\n",
    "    print(\"p-value < significance threshold.\")\n",
    "    print(\"Reject H0. Accept H1.\")\n",
    "    print(\"Conclude that samples are drawn from populations with different means.\")\n",
    "elif p_value >= alpha:\n",
    "    print(\"p-value >= significance threshold.\")\n",
    "    print(\"No significant evidence to reject H0.\")\n",
    "    print(\"Assume samples are drawn from populations with the same mean.\")"
   ]
  },
  {
   "cell_type": "markdown",
   "metadata": {},
   "source": [
    "## Test 2 KS Distribution Test\n",
    "\n",
    "What about the shape of the distributions?\n",
    "\n",
    "Could the visible difference in the distribution be down to random chance?\n",
    "\n",
    "__Step 1__"
   ]
  },
  {
   "cell_type": "code",
   "execution_count": null,
   "metadata": {},
   "outputs": [],
   "source": []
  },
  {
   "cell_type": "code",
   "execution_count": null,
   "metadata": {},
   "outputs": [],
   "source": []
  },
  {
   "cell_type": "markdown",
   "metadata": {},
   "source": []
  }
 ],
 "metadata": {
  "kernelspec": {
   "display_name": "Python 3",
   "language": "python",
   "name": "python3"
  },
  "language_info": {
   "codemirror_mode": {
    "name": "ipython",
    "version": 3
   },
   "file_extension": ".py",
   "mimetype": "text/x-python",
   "name": "python",
   "nbconvert_exporter": "python",
   "pygments_lexer": "ipython3",
   "version": "3.10.12"
  }
 },
 "nbformat": 4,
 "nbformat_minor": 2
}
